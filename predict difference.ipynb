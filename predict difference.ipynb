{
 "cells": [
  {
   "cell_type": "code",
   "execution_count": null,
   "metadata": {
    "id": "2rU63E_afDHF"
   },
   "outputs": [],
   "source": [
    "from google.colab import drive\n",
    "import nbformat, os\n",
    "\n",
    "drive.mount('/content/drive', force_remount=True)\n",
    "SRC = '/content/drive/MyDrive/Colab Notebooks/Untitled17.ipynb'\n",
    "DST = '/content/drive/MyDrive/colab_saves/predict difference.ipynb'\n",
    "\n",
    "with open(SRC, 'r', encoding='utf-8') as f:\n",
    "    nb = nbformat.read(f, as_version=4)\n",
    "\n",
    "\n",
    "nb.metadata.pop('widgets', None)\n",
    "for cell in nb.cells:\n",
    "    cell.metadata.pop('widgets', None)\n",
    "os.makedirs(os.path.dirname(DST), exist_ok=True)\n",
    "with open(DST, 'w', encoding='utf-8') as f:\n",
    "    nbformat.write(nb, f)\n",
    "\n",
    "print(\"✅ Clean copy saved to\", DST)"
   ]
  },
  {
   "cell_type": "code",
   "execution_count": 2,
   "metadata": {
    "colab": {
     "base_uri": "https://localhost:8080/"
    },
    "executionInfo": {
     "elapsed": 24085,
     "status": "ok",
     "timestamp": 1759126556243,
     "user": {
      "displayName": "Peng",
      "userId": "11558679983686850100"
     },
     "user_tz": -480
    },
    "id": "MtLyWID7F1Ca",
    "outputId": "a5d36b22-8eb9-4be0-a9af-914ce8392cfd"
   },
   "outputs": [
    {
     "name": "stdout",
     "output_type": "stream",
     "text": [
      "Mounted at /content/drive\n"
     ]
    }
   ],
   "source": [
    "import pandas as pd\n",
    "import pickle\n",
    "from google.colab import drive\n",
    "\n",
    "\n",
    "drive.mount('/content/drive')\n",
    "\n",
    "load_path = \"/content/drive/My Drive/colab_saves/all_data_clean.pkl\"\n",
    "\n",
    "\n",
    "with open(load_path, \"rb\") as f:\n",
    "    all_data_clean = pickle.load(f)\n",
    "\n"
   ]
  },
  {
   "cell_type": "code",
   "execution_count": null,
   "metadata": {
    "colab": {
     "base_uri": "https://localhost:8080/"
    },
    "executionInfo": {
     "elapsed": 137,
     "status": "ok",
     "timestamp": 1759050071624,
     "user": {
      "displayName": "Peng",
      "userId": "11558679983686850100"
     },
     "user_tz": -480
    },
    "id": "-eSX1BX7jdlE",
    "outputId": "b6381966-f498-458b-de4c-52a6c363f589"
   },
   "outputs": [
    {
     "name": "stdout",
     "output_type": "stream",
     "text": [
      "    date_utc  n_titles                                             titles  \\\n",
      "0 2025-07-16         2  [MP Materials rips to all-time high after $500...   \n",
      "1 2025-07-15         5  [MP Materials soars on $500M Apple deal backin...   \n",
      "2 2025-07-14         1  [Apple's iPhone fold might sell for less than ...   \n",
      "3 2025-07-11         1  [Top Seeking Alpha tech sector Quant picks ahe...   \n",
      "4 2025-07-10         4  [Meta lured Apple’s Pang with pay package exce...   \n",
      "\n",
      "                                           embedding  difference ticker  \n",
      "0  [-0.0025580707, -0.012631489, -0.005138179, -0...    0.409533   AAPL  \n",
      "1  [-0.004741954, -0.009954909, -0.002335629, -0....    1.188654   AAPL  \n",
      "2  [-0.0031060807, -0.007945612, 0.0027573549, -0...    0.599332   AAPL  \n",
      "3  [-0.0057898858, -0.008650952, -0.006357145, -0...   -1.228612   AAPL  \n",
      "4  [-0.00744634, 0.004051717, -0.005791217, -0.00...   -1.837908   AAPL  \n"
     ]
    }
   ],
   "source": [
    "print(all_data_clean.head())"
   ]
  },
  {
   "cell_type": "code",
   "execution_count": null,
   "metadata": {
    "colab": {
     "base_uri": "https://localhost:8080/"
    },
    "executionInfo": {
     "elapsed": 168074,
     "status": "ok",
     "timestamp": 1759046442190,
     "user": {
      "displayName": "Peng",
      "userId": "11558679983686850100"
     },
     "user_tz": -480
    },
    "id": "bem5kzXmNyt8",
    "outputId": "7370d006-1552-40a2-8bc0-b11952154d54"
   },
   "outputs": [
    {
     "name": "stdout",
     "output_type": "stream",
     "text": [
      "Random Forest Performance:\n",
      "  MSE  : 20.9637\n",
      "  RMSE : 4.5786\n",
      "  MAE  : 2.3170\n",
      "  R²   : -0.0491\n",
      "  max_depth   : 2.0000\n",
      "Random Forest Performance:\n",
      "  MSE  : 21.4243\n",
      "  RMSE : 4.6286\n",
      "  MAE  : 2.3507\n",
      "  R²   : -0.0721\n",
      "  max_depth   : 5.0000\n",
      "Random Forest Performance:\n",
      "  MSE  : 21.9880\n",
      "  RMSE : 4.6891\n",
      "  MAE  : 2.3636\n",
      "  R²   : -0.1003\n",
      "  max_depth   : 10.0000\n",
      "Random Forest Performance:\n",
      "  MSE  : 21.8497\n",
      "  RMSE : 4.6744\n",
      "  MAE  : 2.3912\n",
      "  R²   : -0.0934\n",
      "  max_depth   : 20.0000\n"
     ]
    }
   ],
   "source": [
    "import numpy as np\n",
    "import pandas as pd\n",
    "from sklearn.model_selection import train_test_split\n",
    "from sklearn.ensemble import RandomForestRegressor\n",
    "from sklearn.metrics import mean_squared_error, mean_absolute_error, r2_score\n",
    "\n",
    "\n",
    "X = np.vstack(all_data_clean[\"embedding\"].values)\n",
    "y = all_data_clean[\"difference\"].values\n",
    "\n",
    "\n",
    "X_train, X_test, y_train, y_test = train_test_split(\n",
    "    X, y, test_size=0.2, random_state= 35)\n",
    "\n",
    "max_dep = [2,5,10,20]\n",
    "for i in max_dep:\n",
    "    rf = RandomForestRegressor(\n",
    "        n_estimators=200,\n",
    "        max_depth=i,\n",
    "        random_state=4,\n",
    "        n_jobs=-1 )\n",
    "    rf.fit(X_train, y_train)\n",
    "\n",
    "\n",
    "    y_pred = rf.predict(X_test)\n",
    "\n",
    "\n",
    "    mse  = mean_squared_error(y_test, y_pred)\n",
    "    rmse = np.sqrt(mse)\n",
    "    mae  = mean_absolute_error(y_test, y_pred)\n",
    "    r2   = r2_score(y_test, y_pred)\n",
    "\n",
    "    print(\"Random Forest Performance:\")\n",
    "    print(f\"  MSE  : {mse:.4f}\")\n",
    "    print(f\"  RMSE : {rmse:.4f}\")\n",
    "    print(f\"  MAE  : {mae:.4f}\")\n",
    "    print(f\"  R²   : {r2:.4f}\")\n",
    "    print(f\"  max_depth   : {i:.4f}\")\n",
    "\n"
   ]
  },
  {
   "cell_type": "code",
   "execution_count": 4,
   "metadata": {
    "colab": {
     "base_uri": "https://localhost:8080/"
    },
    "executionInfo": {
     "elapsed": 14923,
     "status": "ok",
     "timestamp": 1759126653831,
     "user": {
      "displayName": "Peng",
      "userId": "11558679983686850100"
     },
     "user_tz": -480
    },
    "id": "vFrLMjzurDpz",
    "outputId": "7083db67-2688-401d-8057-e842d25a663b"
   },
   "outputs": [
    {
     "name": "stdout",
     "output_type": "stream",
     "text": [
      "  Accuracy     : 41.9048%\n",
      "  Micro-F1     : 41.9048%\n",
      "  Macro-F1     : 33.1489%\n",
      "  Weighted-F1  : 29.2319%\n",
      "  Macro-Recall : 49.0499%\n"
     ]
    }
   ],
   "source": [
    "import numpy as np\n",
    "import pandas as pd\n",
    "from sklearn.model_selection import train_test_split\n",
    "from sklearn.ensemble import RandomForestRegressor\n",
    "from sklearn.metrics import mean_squared_error, mean_absolute_error, r2_score\n",
    "\n",
    "\n",
    "X = np.vstack(all_data_clean[\"embedding\"].values)\n",
    "y = all_data_clean[\"difference\"].values\n",
    "\n",
    "\n",
    "X_train, X_test, y_train, y_test = train_test_split(\n",
    "    X, y, test_size=0.2, random_state= 35)\n",
    "\n",
    "rf = RandomForestRegressor(\n",
    "        n_estimators=200,\n",
    "        max_depth=2,\n",
    "        random_state=4,\n",
    "        n_jobs=-1 )\n",
    "rf.fit(X_train, y_train)\n",
    "\n",
    "y_pred = rf.predict(X_test)\n",
    "\n",
    "\n",
    "\n",
    "import numpy as np\n",
    "from sklearn.metrics import accuracy_score, f1_score, recall_score, classification_report\n",
    "\n",
    "#  Convert predictions to sign:  0, 1\n",
    "def sign_to_class(x):\n",
    "    if x > 0:\n",
    "        return 1\n",
    "    elif x <= 0:\n",
    "        return 0\n",
    "\n",
    "\n",
    "y_pred_class = np.array([sign_to_class(v) for v in y_pred])\n",
    "y_true_class = np.array([sign_to_class(v) for v in y_test])\n",
    "\n",
    "\n",
    "acc          = accuracy_score(y_true_class, y_pred_class)\n",
    "f1_micro     = f1_score(y_true_class, y_pred_class, average=\"micro\",    zero_division=0)\n",
    "f1_macro     = f1_score(y_true_class, y_pred_class, average=\"macro\",    zero_division=0)\n",
    "f1_weighted  = f1_score(y_true_class, y_pred_class, average=\"weighted\", zero_division=0)\n",
    "rec_macro    = recall_score(y_true_class, y_pred_class, average=\"macro\", zero_division=0)\n",
    "\n",
    "\n",
    "print(f\"  Accuracy     : {acc:.4%}\")\n",
    "print(f\"  Micro-F1     : {f1_micro:.4%}\")\n",
    "print(f\"  Macro-F1     : {f1_macro:.4%}\")\n",
    "print(f\"  Weighted-F1  : {f1_weighted:.4%}\")\n",
    "print(f\"  Macro-Recall : {rec_macro:.4%}\")\n",
    "\n",
    "\n"
   ]
  },
  {
   "cell_type": "markdown",
   "metadata": {
    "id": "WXpl9E9zrNqy"
   },
   "source": []
  },
  {
   "cell_type": "code",
   "execution_count": null,
   "metadata": {
    "colab": {
     "base_uri": "https://localhost:8080/"
    },
    "executionInfo": {
     "elapsed": 136,
     "status": "ok",
     "timestamp": 1759044705213,
     "user": {
      "displayName": "Peng",
      "userId": "11558679983686850100"
     },
     "user_tz": -480
    },
    "id": "2RzchmTmOzxa",
    "outputId": "ac4de522-ea8c-4a92-9c1e-30c8732d77f7"
   },
   "outputs": [
    {
     "name": "stdout",
     "output_type": "stream",
     "text": [
      "Lasso Regression Performance for different alpha values:\n",
      " alpha |   MSE   |  RMSE  |   MAE   |   R²\n",
      "-----------------------------------------------\n",
      "  0.01 | 12.2032 | 3.4933 | 2.0779 | -0.0055\n",
      "   0.1 | 12.2329 | 3.4976 | 2.0729 | -0.0079\n",
      "   0.5 | 12.2329 | 3.4976 | 2.0729 | -0.0079\n",
      "     1 | 12.2329 | 3.4976 | 2.0729 | -0.0079\n",
      "     5 | 12.2329 | 3.4976 | 2.0729 | -0.0079\n",
      "    10 | 12.2329 | 3.4976 | 2.0729 | -0.0079\n"
     ]
    }
   ],
   "source": [
    "from sklearn.linear_model import Lasso\n",
    "\n",
    "alphas = [0.01, 0.1, 0.5, 1, 5, 10]\n",
    "results = []\n",
    "\n",
    "for alpha in alphas:\n",
    "    lasso = Lasso(alpha=alpha, max_iter=5000, random_state=34)\n",
    "    lasso.fit(X_train, y_train)\n",
    "    y_pred = lasso.predict(X_test)\n",
    "\n",
    "    mse  = mean_squared_error(y_test, y_pred)\n",
    "    rmse = np.sqrt(mse)\n",
    "    mae  = mean_absolute_error(y_test, y_pred)\n",
    "    r2   = r2_score(y_test, y_pred)\n",
    "\n",
    "    results.append((alpha, mse, rmse, mae, r2))\n",
    "\n",
    "print(\"Lasso Regression Performance for different alpha values:\")\n",
    "print(\" alpha |   MSE   |  RMSE  |   MAE   |   R²\")\n",
    "print(\"-----------------------------------------------\")\n",
    "for alpha, mse, rmse, mae, r2 in results:\n",
    "    print(f\"{alpha:6} | {mse:.4f} | {rmse:.4f} | {mae:.4f} | {r2:.4f}\")"
   ]
  },
  {
   "cell_type": "code",
   "execution_count": 6,
   "metadata": {
    "colab": {
     "base_uri": "https://localhost:8080/"
    },
    "executionInfo": {
     "elapsed": 131,
     "status": "ok",
     "timestamp": 1759126674855,
     "user": {
      "displayName": "Peng",
      "userId": "11558679983686850100"
     },
     "user_tz": -480
    },
    "id": "ts00suH9wB5p",
    "outputId": "0747b301-e2dd-42af-fc26-613029c643ef"
   },
   "outputs": [
    {
     "name": "stdout",
     "output_type": "stream",
     "text": [
      "  Accuracy     : 50.4762%\n",
      "  Micro-F1     : 50.4762%\n",
      "  Macro-F1     : 36.6883%\n",
      "  Weighted-F1  : 35.8442%\n",
      "  Macro-Recall : 51.8519%\n"
     ]
    }
   ],
   "source": [
    "\n",
    "X = np.vstack(all_data_clean[\"embedding\"].values)\n",
    "y = all_data_clean[\"difference\"].values\n",
    "\n",
    "\n",
    "X_train, X_test, y_train, y_test = train_test_split(\n",
    "    X, y, test_size=0.2, random_state= 34)\n",
    "\n",
    "lasso = Lasso(alpha=0.01, max_iter=5000, random_state=34)\n",
    "lasso.fit(X_train, y_train)\n",
    "y_pred = lasso.predict(X_test)\n",
    "\n",
    "\n",
    "y_pred_class = np.array([sign_to_class(v) for v in y_pred])\n",
    "y_true_class = np.array([sign_to_class(v) for v in y_test])\n",
    "\n",
    "\n",
    "acc          = accuracy_score(y_true_class, y_pred_class)\n",
    "f1_micro     = f1_score(y_true_class, y_pred_class, average=\"micro\",    zero_division=0)\n",
    "f1_macro     = f1_score(y_true_class, y_pred_class, average=\"macro\",    zero_division=0)\n",
    "f1_weighted  = f1_score(y_true_class, y_pred_class, average=\"weighted\", zero_division=0)\n",
    "rec_macro    = recall_score(y_true_class, y_pred_class, average=\"macro\", zero_division=0)\n",
    "\n",
    "\n",
    "print(f\"  Accuracy     : {acc:.4%}\")\n",
    "print(f\"  Micro-F1     : {f1_micro:.4%}\")\n",
    "print(f\"  Macro-F1     : {f1_macro:.4%}\")\n",
    "print(f\"  Weighted-F1  : {f1_weighted:.4%}\")\n",
    "print(f\"  Macro-Recall : {rec_macro:.4%}\")"
   ]
  },
  {
   "cell_type": "code",
   "execution_count": null,
   "metadata": {
    "id": "kkwIadMiv8EW"
   },
   "outputs": [],
   "source": []
  },
  {
   "cell_type": "code",
   "execution_count": 16,
   "metadata": {
    "colab": {
     "base_uri": "https://localhost:8080/"
    },
    "executionInfo": {
     "elapsed": 131368,
     "status": "ok",
     "timestamp": 1759130523888,
     "user": {
      "displayName": "Peng",
      "userId": "11558679983686850100"
     },
     "user_tz": -480
    },
    "id": "Ub2nR3oCX4kN",
    "outputId": "cb6f9eed-c682-4481-a5f1-924551c500e7"
   },
   "outputs": [
    {
     "name": "stdout",
     "output_type": "stream",
     "text": [
      "LR= 0.01 | RMSE=3.66979 | MAE=2.31566 | R²=-0.10965 | MSE=13.46734\n",
      "LR= 0.03 | RMSE=3.64602 | MAE=2.39726 | R²=-0.09532 | MSE=13.29346\n",
      "LR= 0.05 | RMSE=3.55720 | MAE=2.41120 | R²=-0.04261 | MSE=12.65368\n",
      "LR=  0.1 | RMSE=3.61749 | MAE=2.43430 | R²=-0.07825 | MSE=13.08622\n",
      "LR=  0.3 | RMSE=3.50080 | MAE=2.43955 | R²=-0.00981 | MSE=12.25560\n"
     ]
    }
   ],
   "source": [
    "import numpy as np\n",
    "import pandas as pd\n",
    "from sklearn.model_selection import train_test_split\n",
    "from sklearn.metrics import mean_squared_error, mean_absolute_error, r2_score\n",
    "import xgboost as xgb\n",
    "\n",
    "\n",
    "X = np.vstack(all_data_clean[\"embedding\"].values)\n",
    "y = all_data_clean[\"difference\"].values\n",
    "\n",
    "X_train, X_test, y_train, y_test = train_test_split(\n",
    "    X, y, test_size=0.20, random_state=42)\n",
    "\n",
    "learn_rates = [0.01, 0.03, 0.05, 0.10, 0.30]\n",
    "\n",
    "for lr in learn_rates:\n",
    "    model = xgb.XGBRegressor(\n",
    "        objective=\"reg:squarederror\",\n",
    "        learning_rate=lr,\n",
    "        random_state=42,\n",
    "        n_jobs=-1 )\n",
    "\n",
    "    model.fit(X_train, y_train)\n",
    "\n",
    "    y_pred = model.predict(X_test)\n",
    "\n",
    "    mse = mean_squared_error(y_test, y_pred)\n",
    "    rmse  = np.sqrt(mse)\n",
    "    mae  = mean_absolute_error(y_test, y_pred)\n",
    "    r2   = r2_score(y_test, y_pred)\n",
    "\n",
    "    print(f\"LR={lr:>5} | RMSE={rmse:.5f} | MAE={mae:.5f} | R²={r2:.5f} | MSE={mse:.5f}\")\n",
    "\n",
    "\n"
   ]
  },
  {
   "cell_type": "code",
   "execution_count": 18,
   "metadata": {
    "colab": {
     "base_uri": "https://localhost:8080/"
    },
    "executionInfo": {
     "elapsed": 307112,
     "status": "ok",
     "timestamp": 1759130969921,
     "user": {
      "displayName": "Peng",
      "userId": "11558679983686850100"
     },
     "user_tz": -480
    },
    "id": "vL3QyFxZM9_H",
    "outputId": "3c4a7fad-8abc-44c9-953e-5d37ce83703f"
   },
   "outputs": [
    {
     "name": "stdout",
     "output_type": "stream",
     "text": [
      "alpha=   0, lambda= 0.1 | RMSE=3.82090 | MAE=2.68030 | R²=-0.20292 | MSE=14.59929\n",
      "alpha=   0, lambda=   1 | RMSE=3.50080 | MAE=2.43955 | R²=-0.00981 | MSE=12.25560\n",
      "alpha=   0, lambda=   3 | RMSE=3.36569 | MAE=2.30491 | R²=0.06663 | MSE=11.32790\n",
      "alpha=   0, lambda=  10 | RMSE=3.45737 | MAE=2.23818 | R²=0.01509 | MSE=11.95338\n",
      "alpha=0.01, lambda= 0.1 | RMSE=3.73693 | MAE=2.65687 | R²=-0.15063 | MSE=13.96467\n",
      "alpha=0.01, lambda=   1 | RMSE=3.44075 | MAE=2.37942 | R²=0.02454 | MSE=11.83875\n",
      "alpha=0.01, lambda=   3 | RMSE=3.35453 | MAE=2.28362 | R²=0.07281 | MSE=11.25289\n",
      "alpha=0.01, lambda=  10 | RMSE=3.46860 | MAE=2.25405 | R²=0.00868 | MSE=12.03121\n",
      "alpha= 0.1, lambda= 0.1 | RMSE=3.80485 | MAE=2.61241 | R²=-0.19284 | MSE=14.47690\n",
      "alpha= 0.1, lambda=   1 | RMSE=3.34278 | MAE=2.26523 | R²=0.07930 | MSE=11.17416\n",
      "alpha= 0.1, lambda=   3 | RMSE=3.41614 | MAE=2.26955 | R²=0.03844 | MSE=11.67004\n",
      "alpha= 0.1, lambda=  10 | RMSE=3.37053 | MAE=2.14992 | R²=0.06394 | MSE=11.36048\n",
      "alpha= 0.5, lambda= 0.1 | RMSE=3.69876 | MAE=2.49316 | R²=-0.12724 | MSE=13.68084\n",
      "alpha= 0.5, lambda=   1 | RMSE=3.42605 | MAE=2.38437 | R²=0.03285 | MSE=11.73784\n",
      "alpha= 0.5, lambda=   3 | RMSE=3.46364 | MAE=2.30329 | R²=0.01152 | MSE=11.99679\n",
      "alpha= 0.5, lambda=  10 | RMSE=3.68345 | MAE=2.38629 | R²=-0.11793 | MSE=13.56782\n",
      "\n",
      "Top combos by RMSE:\n",
      "   reg_alpha  reg_lambda      RMSE       MAE        MSE        R2\n",
      "0       0.10         1.0  3.342778  2.265231  11.174164  0.079296\n",
      "1       0.01         3.0  3.354532  2.283616  11.252888  0.072810\n",
      "2       0.00         3.0  3.365694  2.304914  11.327899  0.066629\n",
      "3       0.10        10.0  3.370531  2.149921  11.360481  0.063945\n",
      "4       0.10         3.0  3.416144  2.269551  11.670036  0.038439\n",
      "5       0.50         1.0  3.426053  2.384368  11.737840  0.032852\n",
      "6       0.01         1.0  3.440748  2.379417  11.838749  0.024537\n",
      "7       0.00        10.0  3.457365  2.238185  11.953375  0.015093\n",
      "8       0.50         3.0  3.463638  2.303292  11.996791  0.011515\n",
      "9       0.01        10.0  3.468604  2.254050  12.031212  0.008679\n"
     ]
    }
   ],
   "source": [
    "import numpy as np\n",
    "import pandas as pd\n",
    "from sklearn.metrics import mean_squared_error, mean_absolute_error, r2_score\n",
    "import xgboost as xgb\n",
    "\n",
    "L1_grid = [0, 0.01, 0.1, 0.5]\n",
    "L2_grid = [0.1, 1, 3, 10]\n",
    "\n",
    "results = []\n",
    "\n",
    "for a in L1_grid:\n",
    "    for lam in L2_grid:\n",
    "        model = xgb.XGBRegressor(\n",
    "            objective=\"reg:squarederror\",\n",
    "            learning_rate= 0.3,\n",
    "            reg_alpha=a,\n",
    "            reg_lambda=lam,\n",
    "            random_state=42,\n",
    "            n_jobs=-1)\n",
    "\n",
    "        model.fit(X_train, y_train)\n",
    "        y_pred = model.predict(X_test)\n",
    "\n",
    "        mse = mean_squared_error(y_test, y_pred)\n",
    "        rmse  = np.sqrt(mse)\n",
    "        mae  = mean_absolute_error(y_test, y_pred)\n",
    "        r2   = r2_score(y_test, y_pred)\n",
    "\n",
    "        results.append({\n",
    "            \"reg_alpha\": a,\n",
    "            \"reg_lambda\": lam,\n",
    "            \"RMSE\": rmse,\n",
    "            \"MAE\": mae,\n",
    "            \"MSE\": mse,\n",
    "            \"R2\": r2\n",
    "        })\n",
    "\n",
    "        print(f\"alpha={a:>4}, lambda={lam:>4} | RMSE={rmse:.5f} | MAE={mae:.5f} | R²={r2:.5f} | MSE={mse:.5f}\")\n",
    "\n",
    "\n",
    "results_df = pd.DataFrame(results).sort_values(\"RMSE\").reset_index(drop=True)\n",
    "print(\"\\nTop combos by RMSE:\")\n",
    "print(results_df.head(10))\n",
    "\n"
   ]
  },
  {
   "cell_type": "code",
   "execution_count": 19,
   "metadata": {
    "colab": {
     "base_uri": "https://localhost:8080/"
    },
    "executionInfo": {
     "elapsed": 20776,
     "status": "ok",
     "timestamp": 1759131547291,
     "user": {
      "displayName": "Peng",
      "userId": "11558679983686850100"
     },
     "user_tz": -480
    },
    "id": "yqLoms5YxMRK",
    "outputId": "1d4a8bd5-7796-4690-bdc0-204a1fc17e11"
   },
   "outputs": [
    {
     "name": "stdout",
     "output_type": "stream",
     "text": [
      "  Accuracy     : 55.2381%\n",
      "  Micro-F1     : 55.2381%\n",
      "  Macro-F1     : 53.5529%\n",
      "  Weighted-F1  : 54.1427%\n",
      "  Macro-Recall : 54.2092%\n"
     ]
    }
   ],
   "source": [
    "model = xgb.XGBRegressor(\n",
    "            objective=\"reg:squarederror\",\n",
    "            learning_rate= 0.3,\n",
    "            reg_alpha=0.1,\n",
    "            reg_lambda=1,\n",
    "            random_state=42,\n",
    "            n_jobs=-1)\n",
    "\n",
    "model.fit(X_train, y_train)\n",
    "y_pred = model.predict(X_test)\n",
    "\n",
    "y_pred_class = np.array([sign_to_class(v) for v in y_pred])\n",
    "y_true_class = np.array([sign_to_class(v) for v in y_test])\n",
    "\n",
    "\n",
    "acc          = accuracy_score(y_true_class, y_pred_class)\n",
    "f1_micro     = f1_score(y_true_class, y_pred_class, average=\"micro\",    zero_division=0)\n",
    "f1_macro     = f1_score(y_true_class, y_pred_class, average=\"macro\",    zero_division=0)\n",
    "f1_weighted  = f1_score(y_true_class, y_pred_class, average=\"weighted\", zero_division=0)\n",
    "rec_macro    = recall_score(y_true_class, y_pred_class, average=\"macro\", zero_division=0)\n",
    "\n",
    "\n",
    "print(f\"  Accuracy     : {acc:.4%}\")\n",
    "print(f\"  Micro-F1     : {f1_micro:.4%}\")\n",
    "print(f\"  Macro-F1     : {f1_macro:.4%}\")\n",
    "print(f\"  Weighted-F1  : {f1_weighted:.4%}\")\n",
    "print(f\"  Macro-Recall : {rec_macro:.4%}\")"
   ]
  }
 ],
 "metadata": {
  "colab": {
   "authorship_tag": "ABX9TyOZJz4Dp+n9llTqdCQWx1EW",
   "provenance": []
  },
  "kernelspec": {
   "display_name": "Python 3",
   "name": "python3"
  },
  "language_info": {
   "name": "python"
  }
 },
 "nbformat": 4,
 "nbformat_minor": 0
}
