{
 "cells": [
  {
   "cell_type": "code",
   "execution_count": null,
   "metadata": {
    "id": "FpCR2kUOoGKf"
   },
   "outputs": [],
   "source": [
    "from google.colab import drive\n",
    "import nbformat, os\n",
    "\n",
    "drive.mount('/content/drive', force_remount=True)\n",
    "SRC = '/content/drive/MyDrive/Colab Notebooks/Untitled15.ipynb'\n",
    "DST = '/content/drive/MyDrive/colab_saves/cointegration.ipynb'\n",
    "\n",
    "with open(SRC, 'r', encoding='utf-8') as f:\n",
    "    nb = nbformat.read(f, as_version=4)\n",
    "\n",
    "\n",
    "nb.metadata.pop('widgets', None)\n",
    "for cell in nb.cells:\n",
    "    cell.metadata.pop('widgets', None)\n",
    "os.makedirs(os.path.dirname(DST), exist_ok=True)\n",
    "with open(DST, 'w', encoding='utf-8') as f:\n",
    "    nbformat.write(nb, f)\n",
    "\n",
    "print(\"✅ Clean copy saved to\", DST)"
   ]
  },
  {
   "cell_type": "code",
   "execution_count": null,
   "metadata": {
    "colab": {
     "base_uri": "https://localhost:8080/"
    },
    "executionInfo": {
     "elapsed": 2322,
     "status": "ok",
     "timestamp": 1757905997010,
     "user": {
      "displayName": "Peng",
      "userId": "11558679983686850100"
     },
     "user_tz": -480
    },
    "id": "KWElAMRd_qVx",
    "outputId": "17cb7746-c210-4428-f7bc-f2272cd6e87b"
   },
   "outputs": [
    {
     "name": "stderr",
     "output_type": "stream",
     "text": [
      "/tmp/ipython-input-2397418934.py:6: FutureWarning: YF.download() has changed argument auto_adjust default to True\n",
      "  df = yf.download(\n"
     ]
    },
    {
     "name": "stdout",
     "output_type": "stream",
     "text": [
      "                                  SPY         IVV  log_ratio\n",
      "Datetime                                                    \n",
      "2025-09-04 13:30:00+00:00  644.340027  647.479980  -0.004861\n",
      "2025-09-04 13:31:00+00:00  644.489990  647.650024  -0.004891\n",
      "2025-09-04 13:32:00+00:00  644.489990  647.659973  -0.004907\n",
      "2025-09-04 13:33:00+00:00  644.599976  647.799988  -0.004952\n",
      "2025-09-04 13:34:00+00:00  644.910583  648.130005  -0.004980 \n",
      "                                   SPY         IVV  log_ratio\n",
      "Datetime                                                    \n",
      "2025-09-08 19:55:00+00:00  648.635010  651.869995  -0.004975\n",
      "2025-09-08 19:56:00+00:00  648.580078  651.820007  -0.004983\n",
      "2025-09-08 19:57:00+00:00  648.659973  651.900024  -0.004983\n",
      "2025-09-08 19:58:00+00:00  648.405029  651.640015  -0.004977\n",
      "2025-09-08 19:59:00+00:00  648.799988  652.049988  -0.004997\n"
     ]
    }
   ],
   "source": [
    "import numpy as np\n",
    "import pandas as pd\n",
    "import yfinance as yf\n",
    "\n",
    "pair = (\"SPY\", \"IVV\")\n",
    "df = yf.download(\n",
    "    tickers=list(pair),\n",
    "    start=\"2025-09-04\",\n",
    "    end=\"2025-09-09\",\n",
    "    interval=\"1m\",\n",
    "    progress=False)[\"Close\"].dropna()\n",
    "\n",
    "prices = pd.DataFrame({\n",
    "    pair[0]: df[pair[0]],\n",
    "    pair[1]: df[pair[1]]}).dropna()\n",
    "\n",
    "prices[\"log_ratio\"] = np.log(prices[pair[0]] / prices[pair[1]])\n",
    "\n",
    "print(prices.head(), \"\\n\", prices.tail())\n"
   ]
  },
  {
   "cell_type": "code",
   "execution_count": null,
   "metadata": {
    "colab": {
     "base_uri": "https://localhost:8080/"
    },
    "executionInfo": {
     "elapsed": 5132,
     "status": "ok",
     "timestamp": 1757906201099,
     "user": {
      "displayName": "Peng",
      "userId": "11558679983686850100"
     },
     "user_tz": -480
    },
    "id": "cf9UeQNWBAXM",
    "outputId": "de11041b-ba2e-41f9-9084-44a9bf7f3242"
   },
   "outputs": [
    {
     "name": "stdout",
     "output_type": "stream",
     "text": [
      "ADF Statistic: -17.494000793750264\n",
      "p-value: 4.4214198905331885e-30\n",
      "Lags Used: 3\n",
      "Number of Observations: 1164\n",
      "Critical Values: {'1%': np.float64(-3.4359803948357723), '5%': np.float64(-2.8640262259528595), '10%': np.float64(-2.5680937227063922)}\n"
     ]
    }
   ],
   "source": [
    "from statsmodels.tsa.stattools import adfuller\n",
    "\n",
    "# Run ADF test on the log ratio\n",
    "result = adfuller(prices[\"log_ratio\"])\n",
    "\n",
    "print(\"ADF Statistic:\", result[0])\n",
    "print(\"p-value:\", result[1])\n",
    "print(\"Lags Used:\", result[2])\n",
    "print(\"Number of Observations:\", result[3])\n",
    "print(\"Critical Values:\", result[4])\n"
   ]
  },
  {
   "cell_type": "code",
   "execution_count": null,
   "metadata": {
    "colab": {
     "base_uri": "https://localhost:8080/"
    },
    "executionInfo": {
     "elapsed": 141,
     "status": "ok",
     "timestamp": 1757566636101,
     "user": {
      "displayName": "Peng",
      "userId": "11558679983686850100"
     },
     "user_tz": -480
    },
    "id": "cIuFK5oYnvvQ",
    "outputId": "537c457e-801a-412e-ef64-6acd34955658"
   },
   "outputs": [
    {
     "name": "stdout",
     "output_type": "stream",
     "text": [
      "short ivv and long spy\n",
      "short spy and long ivv\n",
      "short ivv and long spy\n",
      "close trading\n",
      "short spy and long ivv\n",
      "short ivv and long spy\n",
      "short ivv and long spy\n",
      "close trading\n",
      "short ivv and long spy\n",
      "close trading\n",
      "short ivv and long spy\n",
      "close trading\n",
      "short spy and long ivv\n",
      "close trading\n",
      "short ivv and long spy\n",
      "close trading\n",
      "1000.7232666015625\n"
     ]
    }
   ],
   "source": [
    "log_ratios = prices[\"log_ratio\"].values\n",
    "n = len(log_ratios)\n",
    "z_scores = [np.nan] * n\n",
    "initial_capital = 1000\n",
    "spy_holding = 0\n",
    "ivv_holding = 0\n",
    "\n",
    "\n",
    "for t in range(1000, n):\n",
    "    p_spy = prices[\"SPY\"].iloc[t]\n",
    "    p_ivv = prices[\"IVV\"].iloc[t]\n",
    "    mu_t = np.mean(log_ratios[:t+1])\n",
    "    sigma_t = np.std(log_ratios[:t+1])\n",
    "    if sigma_t == 0:\n",
    "      continue\n",
    "    z_scores[t] = (log_ratios[t] - mu_t) / sigma_t\n",
    "\n",
    "\n",
    "    if z_scores[t] > 1.25 and spy_holding > -5 :\n",
    "      initial_capital += p_spy - p_ivv\n",
    "      spy_holding -= 1\n",
    "      ivv_holding += 1\n",
    "      print(\"short spy and long ivv\")\n",
    "\n",
    "    if z_scores[t] < -1.25 and ivv_holding > -5 :\n",
    "      initial_capital += p_ivv - p_spy\n",
    "      spy_holding += 1\n",
    "      ivv_holding -= 1\n",
    "      print(\"short ivv and long spy\")\n",
    "\n",
    "    if z_scores[t] < 0.75:\n",
    "      if spy_holding < 0 and ivv_holding > 0 :\n",
    "        initial_capital -= -spy_holding* p_spy\n",
    "        initial_capital += ivv_holding* p_ivv\n",
    "        spy_holding = 0\n",
    "        ivv_holding = 0\n",
    "        print(\"close trading\")\n",
    "\n",
    "\n",
    "    if z_scores[t] > -0.5:\n",
    "      if spy_holding > 0 and ivv_holding < 0:\n",
    "        initial_capital -= -ivv_holding* p_ivv\n",
    "        initial_capital += spy_holding* p_spy\n",
    "        spy_holding = 0\n",
    "        ivv_holding = 0\n",
    "        print(\"close trading\")\n",
    "\n",
    "\n",
    "\n",
    "final_value = (initial_capital + spy_holding * prices[\"SPY\"].iloc[-1]\n",
    "               + ivv_holding * prices[\"IVV\"].iloc[-1])\n",
    "print(final_value)\n",
    "\n"
   ]
  },
  {
   "cell_type": "code",
   "execution_count": null,
   "metadata": {
    "colab": {
     "base_uri": "https://localhost:8080/"
    },
    "executionInfo": {
     "elapsed": 686,
     "status": "ok",
     "timestamp": 1757907950595,
     "user": {
      "displayName": "Peng",
      "userId": "11558679983686850100"
     },
     "user_tz": -480
    },
    "id": "zk-qQGxxWX4a",
    "outputId": "7adf2f71-6686-4b80-bb26-9b3c26aa8c54"
   },
   "outputs": [
    {
     "name": "stderr",
     "output_type": "stream",
     "text": [
      "/tmp/ipython-input-1382899939.py:7: FutureWarning: YF.download() has changed argument auto_adjust default to True\n",
      "  df_1 = yf.download(tickers=list(pair_1), start=start, end=end, interval=interval, progress=False)[\"Close\"].dropna()\n",
      "/tmp/ipython-input-1382899939.py:16: FutureWarning: YF.download() has changed argument auto_adjust default to True\n",
      "  df_2 = yf.download(tickers=list(pair_2), start=start, end=end, interval=interval, progress=False)[\"Close\"].dropna()\n",
      "/tmp/ipython-input-1382899939.py:29: FutureWarning: YF.download() has changed argument auto_adjust default to True\n",
      "  df_3 = yf.download(tickers=list(pair_3), start=start, end=end, interval=interval, progress=False)[\"Close\"].dropna()\n"
     ]
    }
   ],
   "source": [
    "start = \"2025-09-04\"\n",
    "end   = \"2025-09-09\"\n",
    "interval = \"1m\"\n",
    "\n",
    "\n",
    "pair_1 = (\"QQQ\", \"QQQM\")\n",
    "df_1 = yf.download(tickers=list(pair_1), start=start, end=end, interval=interval, progress=False)[\"Close\"].dropna()\n",
    "prices_qqq_qqqm = pd.DataFrame({\n",
    "    pair_1[0]: df_1[pair_1[0]],\n",
    "    pair_1[1]: df_1[pair_1[1]]\n",
    "}).dropna()\n",
    "prices_qqq_qqqm[\"log_ratio\"] = np.log(prices_qqq_qqqm[pair_1[0]] / prices_qqq_qqqm[pair_1[1]])\n",
    "\n",
    "\n",
    "pair_2 = (\"GLD\", \"IAU\")\n",
    "df_2 = yf.download(tickers=list(pair_2), start=start, end=end, interval=interval, progress=False)[\"Close\"].dropna()\n",
    "prices_gld_iau = pd.DataFrame({\n",
    "    pair_2[0]: df_2[pair_2[0]],\n",
    "    pair_2[1]: df_2[pair_2[1]]\n",
    "}).dropna()\n",
    "prices_gld_iau[\"log_ratio\"] = np.log(prices_gld_iau[pair_2[0]] / prices_gld_iau[pair_2[1]])\n",
    "\n",
    "\n",
    "\n",
    "pair_3 = (\"IWM\", \"VTWO\")\n",
    "df_3 = yf.download(tickers=list(pair_3), start=start, end=end, interval=interval, progress=False)[\"Close\"].dropna()\n",
    "prices_iwm_vtwo = pd.DataFrame({\n",
    "    pair_3[0]: df_3[pair_3[0]],\n",
    "    pair_3[1]: df_3[pair_3[1]]\n",
    "}).dropna()\n",
    "prices_iwm_vtwo[\"log_ratio\"] = np.log(prices_iwm_vtwo[pair_3[0]] / prices_iwm_vtwo[pair_3[1]])\n",
    "\n"
   ]
  },
  {
   "cell_type": "code",
   "execution_count": null,
   "metadata": {
    "colab": {
     "base_uri": "https://localhost:8080/"
    },
    "executionInfo": {
     "elapsed": 614,
     "status": "ok",
     "timestamp": 1757907963140,
     "user": {
      "displayName": "Peng",
      "userId": "11558679983686850100"
     },
     "user_tz": -480
    },
    "id": "qWkfMSabX7D7",
    "outputId": "bc5e3cc5-960e-4e21-d41a-d3982ede197f"
   },
   "outputs": [
    {
     "name": "stdout",
     "output_type": "stream",
     "text": [
      "ADF Test for QQQ/QQQM\n",
      "  Test Statistic : -18.67468691727232\n",
      "  p-value        : 2.0436454526974035e-30\n",
      "  Critical Value 1% : -3.436044130146462\n",
      "  Critical Value 5% : -2.864054342974637\n",
      "  Critical Value 10% : -2.568108697208109\n",
      "  => Stationary (reject H0)\n",
      "\n",
      "ADF Test for AGG/BND\n",
      "  Test Statistic : -5.661701960161714\n",
      "  p-value        : 9.347745631003382e-07\n",
      "  Critical Value 1% : -3.436014535478888\n",
      "  Critical Value 5% : -2.8640412872730208\n",
      "  Critical Value 10% : -2.56810174401953\n",
      "  => Stationary (reject H0)\n",
      "\n",
      "ADF Test for IWM/VTWO\n",
      "  Test Statistic : -3.9159181136485386\n",
      "  p-value        : 0.0019207721238900157\n",
      "  Critical Value 1% : -3.436834649927693\n",
      "  Critical Value 5% : -2.864403033735098\n",
      "  Critical Value 10% : -2.568294409927983\n",
      "  => Stationary (reject H0)\n",
      "\n"
     ]
    }
   ],
   "source": [
    "\n",
    "\n",
    "def adf_test(series, name=\"\"):\n",
    "    result = adfuller(series.dropna())\n",
    "    print(f\"ADF Test for {name}\")\n",
    "    print(f\"  Test Statistic : {result[0]}\")\n",
    "    print(f\"  p-value        : {result[1]}\")\n",
    "    for key, value in result[4].items():\n",
    "        print(f\"  Critical Value {key} : {value}\")\n",
    "    if result[1] < 0.05:\n",
    "        print(\"  => Stationary (reject H0)\\n\")\n",
    "    else:\n",
    "        print(\"  => Non-stationary (fail to reject H0)\\n\")\n",
    "\n",
    "adf_test(prices_qqq_qqqm[\"log_ratio\"], \"QQQ/QQQM\")\n",
    "adf_test(prices_gld_iau[\"log_ratio\"], \"GLD/IAU\")\n",
    "adf_test(prices_iwm_vtwo[\"log_ratio\"], \"IWM/VTWO\")\n"
   ]
  },
  {
   "cell_type": "code",
   "execution_count": null,
   "metadata": {
    "id": "TtxTD0EMhD9C"
   },
   "outputs": [],
   "source": [
    "\n",
    "\n",
    "def run_pair_strategy(prices, t1, t2,\n",
    "                      start_idx=1000,\n",
    "                      a=1.25, b=1.25, c=0.75, d=0.5,\n",
    "                      max_units=5,\n",
    "                      initial_capital_start=1000.0):\n",
    "\n",
    "    log_ratios = prices[\"log_ratio\"].values\n",
    "    n = len(log_ratios)\n",
    "    z_scores = [np.nan] * n\n",
    "    initial_capital = initial_capital_start\n",
    "    t1_holding = 0\n",
    "    t2_holding = 0\n",
    "\n",
    "    for t in range(start_idx, n):\n",
    "        p_t1 = prices[t1].iloc[t]\n",
    "        p_t2 = prices[t2].iloc[t]\n",
    "        mu_t = np.mean(log_ratios[:t+1])\n",
    "        sigma_t = np.std(log_ratios[:t+1])\n",
    "        if sigma_t == 0:\n",
    "            continue\n",
    "        z_scores[t] = (log_ratios[t] - mu_t) / sigma_t\n",
    "\n",
    "        if z_scores[t] > a and t1_holding > -max_units:\n",
    "            initial_capital += p_t1 - p_t2\n",
    "            t1_holding -= 1\n",
    "            t2_holding += 1\n",
    "\n",
    "\n",
    "        if z_scores[t] < -b and t2_holding > -max_units:\n",
    "            initial_capital += p_t2 - p_t1\n",
    "            t1_holding += 1\n",
    "            t2_holding -= 1\n",
    "\n",
    "        if z_scores[t] < c:\n",
    "            if t1_holding < 0 and t2_holding > 0:\n",
    "                initial_capital -= -t1_holding * p_t1\n",
    "                initial_capital +=  t2_holding * p_t2\n",
    "                t1_holding = 0\n",
    "                t2_holding = 0\n",
    "\n",
    "        if z_scores[t] > -d:\n",
    "            if t1_holding > 0 and t2_holding < 0:\n",
    "                initial_capital -= -t2_holding * p_t2\n",
    "                initial_capital +=  t1_holding * p_t1\n",
    "                t1_holding = 0\n",
    "                t2_holding = 0\n",
    "\n",
    "\n",
    "    final_value = (initial_capital\n",
    "                   + t1_holding * prices[t1].iloc[-1]\n",
    "                   + t2_holding * prices[t2].iloc[-1])\n",
    "    return final_value\n",
    "\n"
   ]
  },
  {
   "cell_type": "code",
   "execution_count": null,
   "metadata": {
    "colab": {
     "base_uri": "https://localhost:8080/"
    },
    "executionInfo": {
     "elapsed": 147,
     "status": "ok",
     "timestamp": 1757910331616,
     "user": {
      "displayName": "Peng",
      "userId": "11558679983686850100"
     },
     "user_tz": -480
    },
    "id": "cCDs6it2lZNE",
    "outputId": "213736d6-f033-4513-deeb-ad20a35ce323"
   },
   "outputs": [
    {
     "name": "stdout",
     "output_type": "stream",
     "text": [
      "1000.6388549804688\n",
      "1000.3001098632812\n",
      "1000.0300064086914\n"
     ]
    }
   ],
   "source": [
    "print(run_pair_strategy(prices_qqq_qqqm, t1=\"QQQ\", t2=\"QQQM\"))\n",
    "print(run_pair_strategy(prices_gld_iau, t1=\"GLD\", t2=\"IAU\"))\n",
    "print(run_pair_strategy(prices_iwm_vtwo, t1=\"IWM\", t2=\"VTWO\"))\n"
   ]
  }
 ],
 "metadata": {
  "colab": {
   "authorship_tag": "ABX9TyMvpOJgWw63Wq+IRG/yLdJT",
   "provenance": []
  },
  "kernelspec": {
   "display_name": "Python 3",
   "name": "python3"
  },
  "language_info": {
   "name": "python"
  }
 },
 "nbformat": 4,
 "nbformat_minor": 0
}
